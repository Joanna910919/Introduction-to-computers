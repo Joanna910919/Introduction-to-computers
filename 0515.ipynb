{
  "nbformat": 4,
  "nbformat_minor": 0,
  "metadata": {
    "colab": {
      "provenance": [],
      "authorship_tag": "ABX9TyO30zS1mx5puf0QFWxnRMNu",
      "include_colab_link": true
    },
    "kernelspec": {
      "name": "python3",
      "display_name": "Python 3"
    },
    "language_info": {
      "name": "python"
    }
  },
  "cells": [
    {
      "cell_type": "markdown",
      "metadata": {
        "id": "view-in-github",
        "colab_type": "text"
      },
      "source": [
        "<a href=\"https://colab.research.google.com/github/Joanna910919/Introduction-to-computers/blob/main/0515.ipynb\" target=\"_parent\"><img src=\"https://colab.research.google.com/assets/colab-badge.svg\" alt=\"Open In Colab\"/></a>"
      ]
    },
    {
      "cell_type": "code",
      "execution_count": 1,
      "metadata": {
        "colab": {
          "base_uri": "https://localhost:8080/"
        },
        "id": "5adI4Y9yQx5_",
        "outputId": "4476b669-e8a9-41b1-9b5c-e1f66c40c0ac"
      },
      "outputs": [
        {
          "output_type": "stream",
          "name": "stdout",
          "text": [
            "0515\n"
          ]
        }
      ],
      "source": [
        "print(\"0515\")"
      ]
    },
    {
      "cell_type": "code",
      "source": [
        "rain = input('請輸入今天是否會下雨：')\n",
        "if(rain == 'Y'):\n",
        "  print('Y')\n",
        "elif(rain == 'y'):\n",
        "  print('y')\n",
        "elif(rain == 'N'):\n",
        "  print('N')\n",
        "elif(rain == 'n'):\n",
        "  print('n')\n",
        "else:\n",
        "  print('請重新輸入')"
      ],
      "metadata": {
        "colab": {
          "base_uri": "https://localhost:8080/"
        },
        "id": "Xb3W4ApxQyke",
        "outputId": "44e02135-0490-445f-ce9b-4926efab6c8f"
      },
      "execution_count": 3,
      "outputs": [
        {
          "output_type": "stream",
          "name": "stdout",
          "text": [
            "請輸入今天是否會下雨：Y\n",
            "Y\n"
          ]
        }
      ]
    },
    {
      "cell_type": "code",
      "source": [
        "temperature = float(input('請輸入溫度：'))\n",
        "if(temperature >= 37.5):\n",
        "  print('體溫過高！')\n",
        "elif(temperature >= 37):\n",
        "  print('體溫略高！')\n",
        "elif(temperature >=34):\n",
        "  print('體溫正常！')\n",
        "else:\n",
        "  print('體溫異常，請重新測量！')"
      ],
      "metadata": {
        "colab": {
          "base_uri": "https://localhost:8080/"
        },
        "id": "jl1AUGtmRAcN",
        "outputId": "a26eeb8a-5b38-4076-f090-beb8a55600bd"
      },
      "execution_count": 18,
      "outputs": [
        {
          "output_type": "stream",
          "name": "stdout",
          "text": [
            "請輸入溫度：35\n",
            "體溫正常！\n"
          ]
        }
      ]
    },
    {
      "cell_type": "code",
      "source": [
        "score = int(input('請輸入成績：'))\n",
        "if(score >=90):\n",
        "  print('A')\n",
        "elif(score >=80):\n",
        "  print('B')\n",
        "elif(score >=70):\n",
        "  print('C')\n",
        "elif(score >=60):\n",
        "  print('D')\n",
        "else:\n",
        "  print('E')"
      ],
      "metadata": {
        "colab": {
          "base_uri": "https://localhost:8080/"
        },
        "id": "5l2yjOayRAY7",
        "outputId": "9f0869d6-8bb0-4574-dcdc-5cd814a79466"
      },
      "execution_count": 19,
      "outputs": [
        {
          "output_type": "stream",
          "name": "stdout",
          "text": [
            "請輸入成績：50\n",
            "E\n"
          ]
        }
      ]
    },
    {
      "cell_type": "code",
      "source": [
        "season = int(input('請輸入月份：'))\n",
        "if((season >=3) and (season <=5)):\n",
        "  print(season,'月是春天！')\n",
        "elif((season >= 6) and (season <= 8)):\n",
        "  print(season,'月是夏天！')\n",
        "elif((season >= 9) and (season <= 11)):\n",
        "  print(season,'月是秋天！')\n",
        "elif((season == 12) or (season ==1) or (season == 2)):\n",
        "  print(season,'月是冬天！')\n",
        "else:\n",
        "  print('月份不在範圍內！')"
      ],
      "metadata": {
        "colab": {
          "base_uri": "https://localhost:8080/"
        },
        "id": "7RNYnQt5RAe7",
        "outputId": "fd49149e-4ff7-41a7-c71b-4d407865877c"
      },
      "execution_count": 47,
      "outputs": [
        {
          "output_type": "stream",
          "name": "stdout",
          "text": [
            "請輸入月份：1\n",
            "1 月是冬天！\n"
          ]
        }
      ]
    },
    {
      "cell_type": "code",
      "source": [
        "ni = int(input('請輸入今年收入淨額：'))\n",
        "if(ni >= 2000000):\n",
        "  print(ni*0.3)\n",
        "elif(ni >= 1000000):\n",
        "  print(ni*0.21)\n",
        "elif(ni >= 600000):\n",
        "  print(ni*0.13)\n",
        "elif(ni >=300000):\n",
        "  print(ni*0.06)\n",
        "else:\n",
        "  print(0)"
      ],
      "metadata": {
        "colab": {
          "base_uri": "https://localhost:8080/"
        },
        "id": "0UI8PMSvRAjl",
        "outputId": "53cb26ca-1a39-46aa-df89-fae8d69d7681"
      },
      "execution_count": 45,
      "outputs": [
        {
          "output_type": "stream",
          "name": "stdout",
          "text": [
            "請輸入今年收入淨額：2000000\n",
            "600000.0\n"
          ]
        }
      ]
    },
    {
      "cell_type": "code",
      "source": [
        "p = int(input('請輸入購物金額：'))\n",
        "if(p >= 100000):\n",
        "  print('八折' , p*0.8)\n",
        "elif(p >= 50000):\n",
        "  print('八五折' , p*0.85)\n",
        "elif(p >= 30000):\n",
        "  print('九折' , p*0.9)\n",
        "elif(p >= 10000):\n",
        "  print('九五折' , p*0.95)\n",
        "else:\n",
        "  print('沒打折' , p)"
      ],
      "metadata": {
        "colab": {
          "base_uri": "https://localhost:8080/"
        },
        "id": "6fB--BPdRAny",
        "outputId": "fd653b00-5c90-417b-ca6f-e826a178cd11"
      },
      "execution_count": 49,
      "outputs": [
        {
          "output_type": "stream",
          "name": "stdout",
          "text": [
            "請輸入購物金額：100000\n",
            "八折 80000.0\n"
          ]
        }
      ]
    },
    {
      "cell_type": "code",
      "source": [],
      "metadata": {
        "id": "ImGXAmbFQypX"
      },
      "execution_count": null,
      "outputs": []
    },
    {
      "cell_type": "code",
      "source": [],
      "metadata": {
        "id": "pxAdvstzQyty"
      },
      "execution_count": null,
      "outputs": []
    },
    {
      "cell_type": "code",
      "source": [],
      "metadata": {
        "id": "6wiDnH0IQywf"
      },
      "execution_count": null,
      "outputs": []
    },
    {
      "cell_type": "code",
      "source": [],
      "metadata": {
        "id": "0uJ_OQ6aQyzF"
      },
      "execution_count": null,
      "outputs": []
    },
    {
      "cell_type": "code",
      "source": [],
      "metadata": {
        "id": "kxXX8Vy-Qy2e"
      },
      "execution_count": null,
      "outputs": []
    },
    {
      "cell_type": "code",
      "source": [],
      "metadata": {
        "id": "pQb9BG91Qy5z"
      },
      "execution_count": null,
      "outputs": []
    }
  ]
}