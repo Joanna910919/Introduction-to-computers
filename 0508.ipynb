{
  "nbformat": 4,
  "nbformat_minor": 0,
  "metadata": {
    "colab": {
      "provenance": [],
      "authorship_tag": "ABX9TyPW9jPBpLiHdpCnm1uRdtJG",
      "include_colab_link": true
    },
    "kernelspec": {
      "name": "python3",
      "display_name": "Python 3"
    },
    "language_info": {
      "name": "python"
    }
  },
  "cells": [
    {
      "cell_type": "markdown",
      "metadata": {
        "id": "view-in-github",
        "colab_type": "text"
      },
      "source": [
        "<a href=\"https://colab.research.google.com/github/Joanna910919/Introduction-to-computers/blob/main/0508.ipynb\" target=\"_parent\"><img src=\"https://colab.research.google.com/assets/colab-badge.svg\" alt=\"Open In Colab\"/></a>"
      ]
    },
    {
      "cell_type": "code",
      "execution_count": 1,
      "metadata": {
        "colab": {
          "base_uri": "https://localhost:8080/"
        },
        "id": "Fa1d1SEJO-6q",
        "outputId": "b8561865-f963-4f69-8cbc-810089c39ffd"
      },
      "outputs": [
        {
          "output_type": "stream",
          "name": "stdout",
          "text": [
            "0508\n"
          ]
        }
      ],
      "source": [
        "print('0508')"
      ]
    },
    {
      "cell_type": "code",
      "source": [
        "score = int(input('請輸入成績:'))\n",
        "if score >= 60:\n",
        "  print('及格')\n",
        "else:\n",
        "  print('不及格')"
      ],
      "metadata": {
        "colab": {
          "base_uri": "https://localhost:8080/"
        },
        "id": "rE4ssIecPJjT",
        "outputId": "aab2cdd0-50e2-4638-80b8-6a1337523d98"
      },
      "execution_count": 10,
      "outputs": [
        {
          "output_type": "stream",
          "name": "stdout",
          "text": [
            "請輸入成績:４０\n",
            "不及格\n"
          ]
        }
      ]
    },
    {
      "cell_type": "code",
      "source": [
        "password = int(input('請輸入密碼:'))\n",
        "if password == 1234:\n",
        "  print(\"歡迎光臨\")\n",
        "else:\n",
        "  print(\"密碼錯誤\")"
      ],
      "metadata": {
        "colab": {
          "base_uri": "https://localhost:8080/"
        },
        "id": "uF_UkUEGPJmx",
        "outputId": "8e293a04-cd1b-4424-ff60-6c3905b265b5"
      },
      "execution_count": 13,
      "outputs": [
        {
          "output_type": "stream",
          "name": "stdout",
          "text": [
            "請輸入密碼:123\n",
            "密碼錯誤\n"
          ]
        }
      ]
    },
    {
      "cell_type": "code",
      "source": [
        "answer = input('今天會下雨嗎:')\n",
        "if answer == 'y' or answer == 'Y':\n",
        "  print('不用帶傘')"
      ],
      "metadata": {
        "colab": {
          "base_uri": "https://localhost:8080/"
        },
        "id": "xrHkSszdPJpi",
        "outputId": "8a85e781-f9b8-4a7d-899e-3ad676438545"
      },
      "execution_count": 18,
      "outputs": [
        {
          "output_type": "stream",
          "name": "stdout",
          "text": [
            "今天會下雨嗎:Y\n",
            "不用帶傘\n"
          ]
        }
      ]
    },
    {
      "cell_type": "code",
      "source": [
        "number = int(input('請輸入正整數:'))\n",
        "if number % 2 == 0:\n",
        "  print('為偶數')\n",
        "else:\n",
        "  print('為奇數')"
      ],
      "metadata": {
        "colab": {
          "base_uri": "https://localhost:8080/"
        },
        "id": "sKXMVC1kPJsm",
        "outputId": "8d9d73a6-7d02-4c82-d12c-4e33b0c19712"
      },
      "execution_count": 22,
      "outputs": [
        {
          "output_type": "stream",
          "name": "stdout",
          "text": [
            "請輸入正整數:0\n",
            "為偶數\n"
          ]
        }
      ]
    },
    {
      "cell_type": "code",
      "source": [],
      "metadata": {
        "id": "ETeZe7sNPJvn"
      },
      "execution_count": null,
      "outputs": []
    },
    {
      "cell_type": "code",
      "source": [],
      "metadata": {
        "id": "i1zp30j8PJyi"
      },
      "execution_count": null,
      "outputs": []
    },
    {
      "cell_type": "code",
      "source": [],
      "metadata": {
        "id": "-8svNI4_PJ13"
      },
      "execution_count": null,
      "outputs": []
    },
    {
      "cell_type": "code",
      "source": [],
      "metadata": {
        "id": "8JhGYPYTPJ49"
      },
      "execution_count": null,
      "outputs": []
    },
    {
      "cell_type": "code",
      "source": [],
      "metadata": {
        "id": "PqkhDsBxPJ7v"
      },
      "execution_count": null,
      "outputs": []
    },
    {
      "cell_type": "code",
      "source": [],
      "metadata": {
        "id": "wVyDf6uTPJ_N"
      },
      "execution_count": null,
      "outputs": []
    },
    {
      "cell_type": "code",
      "source": [],
      "metadata": {
        "id": "5FuyniKVPKCg"
      },
      "execution_count": null,
      "outputs": []
    },
    {
      "cell_type": "code",
      "source": [],
      "metadata": {
        "id": "8uJIxoqaPKHc"
      },
      "execution_count": null,
      "outputs": []
    },
    {
      "cell_type": "code",
      "source": [],
      "metadata": {
        "id": "vNKEUTnCPKKw"
      },
      "execution_count": null,
      "outputs": []
    },
    {
      "cell_type": "code",
      "source": [],
      "metadata": {
        "id": "VNEgEyVJPKQ3"
      },
      "execution_count": null,
      "outputs": []
    },
    {
      "cell_type": "code",
      "source": [],
      "metadata": {
        "id": "RfPyrCNpPKbM"
      },
      "execution_count": null,
      "outputs": []
    }
  ]
}