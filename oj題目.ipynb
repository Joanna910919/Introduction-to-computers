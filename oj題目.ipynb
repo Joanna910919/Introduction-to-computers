{
  "nbformat": 4,
  "nbformat_minor": 0,
  "metadata": {
    "colab": {
      "provenance": [],
      "authorship_tag": "ABX9TyMYthlLu7jd0i78S4SsTz8C",
      "include_colab_link": true
    },
    "kernelspec": {
      "name": "python3",
      "display_name": "Python 3"
    },
    "language_info": {
      "name": "python"
    }
  },
  "cells": [
    {
      "cell_type": "markdown",
      "metadata": {
        "id": "view-in-github",
        "colab_type": "text"
      },
      "source": [
        "<a href=\"https://colab.research.google.com/github/Joanna910919/Introduction-to-computers/blob/main/oj%E9%A1%8C%E7%9B%AE.ipynb\" target=\"_parent\"><img src=\"https://colab.research.google.com/assets/colab-badge.svg\" alt=\"Open In Colab\"/></a>"
      ]
    },
    {
      "cell_type": "code",
      "execution_count": null,
      "metadata": {
        "colab": {
          "base_uri": "https://localhost:8080/"
        },
        "id": "PK3spDC2d22l",
        "outputId": "c6e829b9-c194-46e0-f2a0-9d5133cbf0e4"
      },
      "outputs": [
        {
          "output_type": "stream",
          "name": "stdout",
          "text": [
            "0529\n"
          ]
        }
      ],
      "source": [
        "print('0529')"
      ]
    },
    {
      "cell_type": "code",
      "source": [
        "from itertools import permutations\n",
        "\n",
        "numbers = [1, 2, 3, 4]\n",
        "combinations = list(permutations(numbers, 3))\n",
        "\n",
        "for combo in combinations:\n",
        "    combo_str = ''.join(map(str, combo))\n",
        "    print(combo)"
      ],
      "metadata": {
        "colab": {
          "base_uri": "https://localhost:8080/"
        },
        "id": "9lYpAtlad_vo",
        "outputId": "03b2532b-ab08-4704-f99c-082782c2f127"
      },
      "execution_count": null,
      "outputs": [
        {
          "output_type": "stream",
          "name": "stdout",
          "text": [
            "(1, 2, 3)\n",
            "(1, 2, 4)\n",
            "(1, 3, 2)\n",
            "(1, 3, 4)\n",
            "(1, 4, 2)\n",
            "(1, 4, 3)\n",
            "(2, 1, 3)\n",
            "(2, 1, 4)\n",
            "(2, 3, 1)\n",
            "(2, 3, 4)\n",
            "(2, 4, 1)\n",
            "(2, 4, 3)\n",
            "(3, 1, 2)\n",
            "(3, 1, 4)\n",
            "(3, 2, 1)\n",
            "(3, 2, 4)\n",
            "(3, 4, 1)\n",
            "(3, 4, 2)\n",
            "(4, 1, 2)\n",
            "(4, 1, 3)\n",
            "(4, 2, 1)\n",
            "(4, 2, 3)\n",
            "(4, 3, 1)\n",
            "(4, 3, 2)\n"
          ]
        }
      ]
    },
    {
      "cell_type": "code",
      "source": [
        "from itertools import permutations\n",
        "\n",
        "numbers = [1, 2, 3, 4]\n",
        "combinations = list(permutations(numbers, 3))\n",
        "\n",
        "for combo in combinations:\n",
        "    combo_str = ' '.join(map(str, combo))\n",
        "    print(combo_str)\n"
      ],
      "metadata": {
        "colab": {
          "base_uri": "https://localhost:8080/"
        },
        "id": "RSWvUgJkeFPW",
        "outputId": "f7b58e14-3311-40a6-83d8-b07efa1ffd24"
      },
      "execution_count": null,
      "outputs": [
        {
          "output_type": "stream",
          "name": "stdout",
          "text": [
            "1 2 3\n",
            "1 2 4\n",
            "1 3 2\n",
            "1 3 4\n",
            "1 4 2\n",
            "1 4 3\n",
            "2 1 3\n",
            "2 1 4\n",
            "2 3 1\n",
            "2 3 4\n",
            "2 4 1\n",
            "2 4 3\n",
            "3 1 2\n",
            "3 1 4\n",
            "3 2 1\n",
            "3 2 4\n",
            "3 4 1\n",
            "3 4 2\n",
            "4 1 2\n",
            "4 1 3\n",
            "4 2 1\n",
            "4 2 3\n",
            "4 3 1\n",
            "4 3 2\n"
          ]
        }
      ]
    },
    {
      "cell_type": "code",
      "source": [
        "num = int(input('請輸入正整數：'))\n",
        "if (num >= 0):\n",
        "  if (num%2 ==0):\n",
        "    print( num, 'is even')\n",
        "  else:\n",
        "    print( num, 'is odd')\n",
        "else:\n",
        "  print('Input error')    "
      ],
      "metadata": {
        "colab": {
          "base_uri": "https://localhost:8080/"
        },
        "id": "C3KRElOTeHKw",
        "outputId": "64b9897b-f4f9-4618-945f-8e329750d88c"
      },
      "execution_count": null,
      "outputs": [
        {
          "output_type": "stream",
          "name": "stdout",
          "text": [
            "請輸入正整數：0\n",
            "0 is even\n"
          ]
        }
      ]
    },
    {
      "cell_type": "code",
      "source": [
        "season = int(input('請輸入月份：'))\n",
        "if (season >= 1) and (season <= 3):\n",
        "  print(season, \"is spring\")\n",
        "elif (season >= 4) and (season <= 6):\n",
        "  print(season, \"is summer\")\n",
        "elif (season >= 7) and (season <= 9):\n",
        "  print(season, \"is autumn\")\n",
        "elif (season >= 10) and (season <= 12):\n",
        "  print(season, \"is winter\")\n",
        "else:\n",
        "  print(\"Input Error\")"
      ],
      "metadata": {
        "colab": {
          "base_uri": "https://localhost:8080/"
        },
        "id": "l63l-x26eHNK",
        "outputId": "ef4b653f-2ba1-4bc0-eff2-b3ee0949f511"
      },
      "execution_count": null,
      "outputs": [
        {
          "output_type": "stream",
          "name": "stdout",
          "text": [
            "請輸入月份：9\n",
            "9 is autumn\n"
          ]
        }
      ]
    },
    {
      "cell_type": "code",
      "source": [
        "month = int(input(\"請輸入月份：\"))\n",
        "\n",
        "if month >= 1 and month <= 12:\n",
        "    if month >= 1 and month <= 3:\n",
        "        print(season, \"is spring\")\n",
        "    elif month >= 4 and month <= 6:\n",
        "        print(season, \"is summer\")\n",
        "    elif month >= 7 and month <= 9:\n",
        "        print(season, \"is autumn\")\n",
        "    else:\n",
        "        print(season, \"is winter\")\n",
        "else:\n",
        "    print(\"Input Error\")\n"
      ],
      "metadata": {
        "colab": {
          "base_uri": "https://localhost:8080/"
        },
        "id": "VMeE6E93eHQC",
        "outputId": "a2d9ec25-4169-42cf-cf32-18aef5b4c1f5"
      },
      "execution_count": null,
      "outputs": [
        {
          "output_type": "stream",
          "name": "stdout",
          "text": [
            "請輸入月份：90\n",
            "Input Error\n"
          ]
        }
      ]
    },
    {
      "cell_type": "code",
      "source": [
        "KG = float(input('請輸入體重：'))\n",
        "M = float(input('請輸入身高：'))\n",
        "BMI = KG/(M/100)**2\n",
        "print('{:.2f}'.format(BMI))"
      ],
      "metadata": {
        "colab": {
          "base_uri": "https://localhost:8080/"
        },
        "id": "FmGlxe7seHS5",
        "outputId": "7f132593-3219-426b-94ca-e983dea98f01"
      },
      "execution_count": null,
      "outputs": [
        {
          "output_type": "stream",
          "name": "stdout",
          "text": [
            "請輸入體重：80\n",
            "請輸入身高：180\n",
            "24.69\n"
          ]
        }
      ]
    },
    {
      "cell_type": "code",
      "source": [
        "height = 176  # 身高（公分）\n",
        "weight = 75   # 體重（公斤）\n",
        "\n",
        "# 轉換身高單位為公尺\n",
        "height_in_meter = height / 100\n",
        "\n",
        "# 計算BMI\n",
        "bmi = weight / (height_in_meter ** 2)\n",
        "\n",
        "# 格式化BMI結果，保留兩位小數\n",
        "formatted_bmi = \"{:.2f}\".format(bmi)\n",
        "\n",
        "print(\"BMI:\", formatted_bmi)\n"
      ],
      "metadata": {
        "colab": {
          "base_uri": "https://localhost:8080/"
        },
        "id": "aaK0Jew_eHWC",
        "outputId": "22d236d1-961c-4e38-ff80-9ad89c5793f7"
      },
      "execution_count": null,
      "outputs": [
        {
          "output_type": "stream",
          "name": "stdout",
          "text": [
            "BMI: 24.21\n"
          ]
        }
      ]
    },
    {
      "cell_type": "code",
      "source": [
        "number = input(\"請輸入一個正整數：\")\n",
        "\n",
        "# 檢查使用者輸入是否為正整數\n",
        "if not number.isdigit() or int(number) <= 0:\n",
        "    print(\"錯誤：請輸入一個正整數！\")\n",
        "else:\n",
        "    # 判斷奇偶性\n",
        "    number = int(number)\n",
        "    if number % 2 == 0:\n",
        "        print(number, \"是偶數。\")\n",
        "    else:\n",
        "        print(number, \"是奇數。\")"
      ],
      "metadata": {
        "colab": {
          "base_uri": "https://localhost:8080/"
        },
        "id": "lzgICHqreHYw",
        "outputId": "d4495acb-6911-44fa-8c3a-238c621d8437"
      },
      "execution_count": null,
      "outputs": [
        {
          "output_type": "stream",
          "name": "stdout",
          "text": [
            "請輸入一個正整數：99\n",
            "99 是奇數。\n"
          ]
        }
      ]
    },
    {
      "cell_type": "code",
      "source": [
        "nums = [99, 50, 0, -10]\n",
        "for num in nums:\n",
        "  if (num < 0) or not isinstance(num, int):\n",
        "    print('Input Error')\n",
        "  else:\n",
        "    if (num%2 ==0):\n",
        "      print(num, 'is even')\n",
        "    else:\n",
        "      print(num, 'is odd')"
      ],
      "metadata": {
        "colab": {
          "base_uri": "https://localhost:8080/"
        },
        "id": "ka9TzoBTeHbs",
        "outputId": "dedf2847-d10f-4231-f503-70ca1f1d2796"
      },
      "execution_count": null,
      "outputs": [
        {
          "output_type": "stream",
          "name": "stdout",
          "text": [
            "99 is odd\n",
            "50 is even\n",
            "0 is even\n",
            "Input Error\n"
          ]
        }
      ]
    },
    {
      "cell_type": "code",
      "source": [
        "d = int(input('請輸入公里數：'))\n",
        "if (d <= 5) and (d >= 1):\n",
        "    print('240 yuan')\n",
        "elif (d >= 6):\n",
        "  print(240+40*(d-5), 'yuan') \n",
        "else:\n",
        "  print('Input Error')\n"
      ],
      "metadata": {
        "colab": {
          "base_uri": "https://localhost:8080/"
        },
        "id": "Q1dzUVH6eHfX",
        "outputId": "1b320458-fe82-409c-fcfa-f5f43dd4de11"
      },
      "execution_count": null,
      "outputs": [
        {
          "output_type": "stream",
          "name": "stdout",
          "text": [
            "請輸入公里數：10\n",
            "440 yuan\n"
          ]
        }
      ]
    },
    {
      "cell_type": "code",
      "source": [
        "numbers = [99, 50, 0, -10]  # 在這裡指定多個正整數\n",
        "\n",
        "for number in numbers:\n",
        "    # 檢查數字是否為正整數\n",
        "    if not isinstance(number, int) or number < 0:\n",
        "        print(\"Input Error\")\n",
        "    else:\n",
        "        # 判斷奇偶性\n",
        "        if number % 2 == 0:\n",
        "            print(number, \"is even.\")\n",
        "        else:\n",
        "            print(number, \"is odd.\")\n"
      ],
      "metadata": {
        "colab": {
          "base_uri": "https://localhost:8080/"
        },
        "id": "Ki5QliCreHjl",
        "outputId": "9cf1b6fc-826b-417e-8798-3c8152e6d332"
      },
      "execution_count": null,
      "outputs": [
        {
          "output_type": "stream",
          "name": "stdout",
          "text": [
            "99 is odd.\n",
            "50 is even.\n",
            "0 is even.\n",
            "Input Error\n"
          ]
        }
      ]
    },
    {
      "cell_type": "code",
      "source": [
        "num = int(input('請輸入正整數：'))\n",
        "if num >=0 and num % 2 ==0:\n",
        "  print(num, 'is even')\n",
        "elif num >= 0 and num % 2 !=0:\n",
        "  print(num, 'is odd')\n",
        "else:\n",
        "  print('Input Error')"
      ],
      "metadata": {
        "colab": {
          "base_uri": "https://localhost:8080/"
        },
        "id": "v6fiUPT7eHoH",
        "outputId": "d3b47204-f5fc-4b6c-abc3-8fc2b1b93e3f"
      },
      "execution_count": null,
      "outputs": [
        {
          "output_type": "stream",
          "name": "stdout",
          "text": [
            "請輸入正整數：6\n",
            "6 is even\n"
          ]
        }
      ]
    },
    {
      "cell_type": "code",
      "source": [
        "y = int(input(''))\n",
        "if y >=1:\n",
        "  print(100000*(1.03)**y)\n",
        "else:\n",
        "  print('Input Error')"
      ],
      "metadata": {
        "colab": {
          "base_uri": "https://localhost:8080/"
        },
        "id": "pfJ_oquUeHsW",
        "outputId": "4c3002f3-bb12-4fe9-bc4f-d835b905b11a"
      },
      "execution_count": null,
      "outputs": [
        {
          "output_type": "stream",
          "name": "stdout",
          "text": [
            "5\n",
            "115927.40743\n"
          ]
        }
      ]
    },
    {
      "cell_type": "code",
      "source": [
        "ns = input('')\n",
        "ns_list = ns.split()\n",
        "\n",
        "ns_list = [int(n) for n in ns_list]\n",
        "\n",
        "min_value = ns_list[0]\n",
        "\n",
        "for n in ns_list:\n",
        "  if n < min_value:\n",
        "    min_value = n \n",
        "\n",
        "print(min_value)"
      ],
      "metadata": {
        "colab": {
          "base_uri": "https://localhost:8080/"
        },
        "id": "qzgb_NjTeHwx",
        "outputId": "207628fd-acfa-4279-9adb-36f931cad53b"
      },
      "execution_count": null,
      "outputs": [
        {
          "output_type": "stream",
          "name": "stdout",
          "text": [
            "2 3 4\n",
            "2\n"
          ]
        }
      ]
    },
    {
      "cell_type": "code",
      "source": [
        "numbers = input(\"請輸入3個整數，以空格隔開：\")\n",
        "numbers_list = numbers.split()  # 將使用者輸入的數字以空格分割成一個列表\n",
        "\n",
        "# 將列表中的字串轉換為整數\n",
        "numbers_list = [int(num) for num in numbers_list]\n",
        "\n",
        "# 先假設第一個數字為最小值\n",
        "min_value = numbers_list[0]\n",
        "\n",
        "# 逐個比較找出最小值\n",
        "for num in numbers_list:\n",
        "    if num < min_value:\n",
        "        min_value = num\n",
        "\n",
        "print(\"三個數字中的最小值為：\", min_value)\n"
      ],
      "metadata": {
        "colab": {
          "base_uri": "https://localhost:8080/"
        },
        "id": "0Y74v1VgeH0d",
        "outputId": "77325b6f-cfb7-4a15-ad59-6be3773a0cc2"
      },
      "execution_count": null,
      "outputs": [
        {
          "output_type": "stream",
          "name": "stdout",
          "text": [
            "請輸入3個整數，以空格隔開：3 4 5\n",
            "三個數字中的最小值為： 3\n"
          ]
        }
      ]
    },
    {
      "cell_type": "code",
      "source": [
        "n = int(input(''))\n",
        "\n",
        "for i in range(1, n+1):\n",
        "  if n % i == 0:\n",
        "    print(i, end = ' ')"
      ],
      "metadata": {
        "colab": {
          "base_uri": "https://localhost:8080/"
        },
        "id": "ET1U0fSseH5c",
        "outputId": "0804c379-7ace-406b-8777-ec5389fe98b1"
      },
      "execution_count": null,
      "outputs": [
        {
          "output_type": "stream",
          "name": "stdout",
          "text": [
            "35\n",
            "1 5 7 35 "
          ]
        }
      ]
    },
    {
      "cell_type": "code",
      "source": [
        "n = int(input(\"請輸入一個整數：\"))\n",
        "\n",
        "factors = []  # 創建一個空列表，用於存儲因數\n",
        "for i in range(1, n+1):  # 從 1 到 n 遍歷每個數字\n",
        "    if n % i == 0:  # 如果 n 可以整除當前數字 i，則 i 是 n 的因數\n",
        "        factors.append(i)  # 將 i 加入因數列表\n",
        "\n",
        "for factor in factors:  # 遍歷因數列表中的每個因數\n",
        "    print(factor, end = ' ')  # 列印每個因數\n"
      ],
      "metadata": {
        "colab": {
          "base_uri": "https://localhost:8080/"
        },
        "id": "IZ9eRc1oeH9P",
        "outputId": "021887a0-0b9e-4443-a9db-85b54a854e18"
      },
      "execution_count": null,
      "outputs": [
        {
          "output_type": "stream",
          "name": "stdout",
          "text": [
            "請輸入一個整數：35\n",
            "1 5 7 35 "
          ]
        }
      ]
    },
    {
      "cell_type": "code",
      "source": [
        "n = int(input(''))\n",
        "factors = []\n",
        "for i in range(n, n+1):\n",
        "  if n % i == 0:\n",
        "    factors.append(i)\n",
        "\n",
        "for factor in factors:\n",
        "  print(factor)\n"
      ],
      "metadata": {
        "id": "hVeRnhhs-joH"
      },
      "execution_count": null,
      "outputs": []
    },
    {
      "cell_type": "code",
      "source": [
        "n = int(input(''))\n",
        "total3 = 0\n",
        "total7 = 0\n",
        "for i in range(1, n+1):\n",
        "  if i % 3 == 0:\n",
        "    total3 += i \n",
        "  elif i % 7 == 0:\n",
        "    total7 += i\n",
        "print(total3 + total7)\n",
        "\n"
      ],
      "metadata": {
        "colab": {
          "base_uri": "https://localhost:8080/"
        },
        "id": "yuv8R9l5-jst",
        "outputId": "f07993da-f8d5-4e35-da02-5057266d0412"
      },
      "execution_count": null,
      "outputs": [
        {
          "output_type": "stream",
          "name": "stdout",
          "text": [
            "25\n",
            "129\n"
          ]
        }
      ]
    },
    {
      "cell_type": "code",
      "source": [
        "n = int(input(''))\n",
        "total = 0\n",
        "\n",
        "for i in range(1, n+1):\n",
        "  if i % 3 == 0 or i % 7 == 0:\n",
        "    total += i \n",
        "\n",
        "print(total)"
      ],
      "metadata": {
        "colab": {
          "base_uri": "https://localhost:8080/"
        },
        "id": "2cMzqTt9-jwR",
        "outputId": "79b81e85-4abd-4f44-a3c0-f115b80f28e6"
      },
      "execution_count": null,
      "outputs": [
        {
          "output_type": "stream",
          "name": "stdout",
          "text": [
            "25\n",
            "129\n"
          ]
        }
      ]
    },
    {
      "cell_type": "code",
      "source": [
        "n = int(input(\"\"))\n",
        "\n",
        "for i in range(1, n+1):\n",
        "    print('*' * i)"
      ],
      "metadata": {
        "colab": {
          "base_uri": "https://localhost:8080/"
        },
        "id": "F1tDFYX1C7fS",
        "outputId": "f20abe52-7a51-4394-b58b-40a39bae522c"
      },
      "execution_count": null,
      "outputs": [
        {
          "output_type": "stream",
          "name": "stdout",
          "text": [
            "8\n",
            "*\n",
            "**\n",
            "***\n",
            "****\n",
            "*****\n",
            "******\n",
            "*******\n",
            "********\n"
          ]
        }
      ]
    },
    {
      "cell_type": "code",
      "source": [
        "n = int(input(''))\n",
        "\n",
        "for i in range(1, n+1):\n",
        "  for j in range(1, i+1):\n",
        "    print(j, end = '')\n",
        "  print()"
      ],
      "metadata": {
        "colab": {
          "base_uri": "https://localhost:8080/"
        },
        "id": "7iROBI_tC7jD",
        "outputId": "58f68ead-390b-4e0b-874f-85986cfcf7d6"
      },
      "execution_count": null,
      "outputs": [
        {
          "output_type": "stream",
          "name": "stdout",
          "text": [
            "4\n",
            "1\n",
            "12\n",
            "123\n",
            "1234\n"
          ]
        }
      ]
    },
    {
      "cell_type": "markdown",
      "source": [
        "最大公因數"
      ],
      "metadata": {
        "id": "X8bE3KHH8quy"
      }
    },
    {
      "cell_type": "code",
      "source": [
        "# 從使用者輸入中獲取兩個整數\n",
        "num1, num2 = input(\"\").split()\n",
        "num1 = int(num1)\n",
        "num2 = int(num2)\n",
        "\n",
        "# 計算兩個數的最大公因數\n",
        "i = 1  # 初始化最大公因數為 1\n",
        "\n",
        "# 找出較小的數字\n",
        "min_num = min(num1, num2)\n",
        "\n",
        "# 使用 for 迴圈從較小值開始進行遞減\n",
        "for i in range(min_num, 0, -1):\n",
        "    if num1 % i == 0 and num2 % i == 0:\n",
        "      break\n",
        "print(i)"
      ],
      "metadata": {
        "id": "Y-Nlx6ppC7nC",
        "colab": {
          "base_uri": "https://localhost:8080/"
        },
        "outputId": "dceb3aaf-2531-422e-d4c4-3d2edd849a1e"
      },
      "execution_count": null,
      "outputs": [
        {
          "output_type": "stream",
          "name": "stdout",
          "text": [
            "30 10 \n",
            "10\n"
          ]
        }
      ]
    },
    {
      "cell_type": "code",
      "source": [
        "a, b = input('').split()\n",
        "a = int(a)\n",
        "b = int(b)\n",
        "i = 1\n",
        "min_num = min(a, b)\n",
        "for i in range(min_num, 0, -1):\n",
        "  if a%i ==0 and b%i == 0:\n",
        "    break\n",
        "print(i)"
      ],
      "metadata": {
        "colab": {
          "base_uri": "https://localhost:8080/"
        },
        "id": "AM0k5UfC8osd",
        "outputId": "c9364e78-0c1c-4edc-a0f5-e6f4ed811ae5"
      },
      "execution_count": null,
      "outputs": [
        {
          "output_type": "stream",
          "name": "stdout",
          "text": [
            "30 10 \n",
            "10\n"
          ]
        }
      ]
    },
    {
      "cell_type": "code",
      "source": [
        "a, b = input('').split()\n",
        "a = int(a)\n",
        "b = int(b)\n",
        "\n",
        "max_num = max(a, b)\n",
        "\n",
        "for i in range(max_num, a*b+1, max_num):\n",
        "  if i%a == 0 and i%b == 0:\n",
        "    break\n",
        "print(i) "
      ],
      "metadata": {
        "colab": {
          "base_uri": "https://localhost:8080/"
        },
        "id": "SD3K2jxB8owo",
        "outputId": "6a00bede-eb22-4f38-c707-8e6cab0410e2"
      },
      "execution_count": null,
      "outputs": [
        {
          "output_type": "stream",
          "name": "stdout",
          "text": [
            "98 99\n",
            "9702\n"
          ]
        }
      ]
    },
    {
      "cell_type": "code",
      "source": [
        "input_string = input(\"\")\n",
        "converted_string = \"\"  # 儲存轉換後的字串\n",
        "\n",
        "for i in range(len(input_string)):\n",
        "    if i % 2 == 0:  # 判斷奇偶位置\n",
        "        converted_string += input_string[i].upper()  # 奇數位置轉為大寫\n",
        "    else:\n",
        "        converted_string += input_string[i].lower()  # 偶數位置轉為小寫\n",
        "\n",
        "print(converted_string)"
      ],
      "metadata": {
        "id": "-m7YB1ov8o0W",
        "colab": {
          "base_uri": "https://localhost:8080/"
        },
        "outputId": "316b1e5d-e806-41d4-92a2-9c02e6367556"
      },
      "execution_count": 3,
      "outputs": [
        {
          "output_type": "stream",
          "name": "stdout",
          "text": [
            "python\n",
            "PyThOn\n"
          ]
        }
      ]
    },
    {
      "cell_type": "code",
      "source": [
        "password = input(\"\")\n",
        "masked_password = '*' * len(password)\n",
        "print(masked_password)\n",
        "print(\"total:\", len(password), sep = '')"
      ],
      "metadata": {
        "id": "6Z54jJz-8o4b",
        "colab": {
          "base_uri": "https://localhost:8080/"
        },
        "outputId": "911d5e71-386d-4bc3-efe9-ffab7859f684"
      },
      "execution_count": 2,
      "outputs": [
        {
          "output_type": "stream",
          "name": "stdout",
          "text": [
            "  a a !!\"\";;;\n",
            "*************\n",
            "total:13\n"
          ]
        }
      ]
    },
    {
      "cell_type": "code",
      "source": [
        "num = int(input(\"\"))\n",
        "sum_of_evens = 0\n",
        "\n",
        "for i in range(15, num + 1):\n",
        "    if i % 2 == 0:\n",
        "        sum_of_evens += i\n",
        "\n",
        "print(sum_of_evens)"
      ],
      "metadata": {
        "id": "4skUtXSW8o8j",
        "colab": {
          "base_uri": "https://localhost:8080/"
        },
        "outputId": "296f4c01-6a2a-4e88-dcee-74f88a2d6f3c"
      },
      "execution_count": 4,
      "outputs": [
        {
          "output_type": "stream",
          "name": "stdout",
          "text": [
            "20\n",
            "54\n"
          ]
        }
      ]
    },
    {
      "cell_type": "code",
      "source": [],
      "metadata": {
        "id": "ioQ1inPbC7rM"
      },
      "execution_count": null,
      "outputs": []
    },
    {
      "cell_type": "code",
      "source": [],
      "metadata": {
        "id": "rTQwewBJC7v-"
      },
      "execution_count": null,
      "outputs": []
    },
    {
      "cell_type": "code",
      "source": [],
      "metadata": {
        "id": "j5p778KUeIBd"
      },
      "execution_count": null,
      "outputs": []
    },
    {
      "cell_type": "code",
      "source": [],
      "metadata": {
        "id": "hwbhMkhgeIHm"
      },
      "execution_count": null,
      "outputs": []
    },
    {
      "cell_type": "code",
      "source": [],
      "metadata": {
        "id": "FV1mL3JZeIW9"
      },
      "execution_count": null,
      "outputs": []
    }
  ]
}